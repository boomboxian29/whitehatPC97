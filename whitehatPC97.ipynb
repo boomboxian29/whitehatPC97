{
  "nbformat": 4,
  "nbformat_minor": 0,
  "metadata": {
    "colab": {
      "provenance": [],
      "collapsed_sections": []
    },
    "kernelspec": {
      "name": "python3",
      "display_name": "Python 3"
    },
    "language_info": {
      "name": "python"
    }
  },
  "cells": [
    {
      "cell_type": "code",
      "execution_count": 4,
      "metadata": {
        "colab": {
          "base_uri": "https://localhost:8080/"
        },
        "id": "4ajFMR8KzlR9",
        "outputId": "fecb94df-24a7-4c62-cf28-c85bbfe21a95"
      },
      "outputs": [
        {
          "output_type": "stream",
          "name": "stdout",
          "text": [
            "Enter year:2017\n",
            "It is not a leap year\n"
          ]
        }
      ],
      "source": [
        "year=int(input(\"Enter year:\"))\n",
        "if (year%4==0 and year%100!=0 or year%400==0 ):\n",
        " print(\"It is a leap year\")\n",
        "else:\n",
        " print(\"It is not a leap year\") \n"
      ]
    },
    {
      "cell_type": "code",
      "source": [
        "height=int(input(\"Enter height in cm:\"))\n",
        "feet=height*0.0328\n",
        "inches=height*0.394\n",
        "print((\"The Height in inches:\",round(inches,2)))\n",
        "print((\"The Height in feet:\",round(feet,2)))"
      ],
      "metadata": {
        "colab": {
          "base_uri": "https://localhost:8080/"
        },
        "id": "nzWFzKj01nQa",
        "outputId": "c02efdec-15dc-4488-d21f-0baed917334d"
      },
      "execution_count": 8,
      "outputs": [
        {
          "output_type": "stream",
          "name": "stdout",
          "text": [
            "Enter height in cm:198\n",
            "('The Height in inches:', 78.01)\n",
            "('The Height in feet:', 6.49)\n"
          ]
        }
      ]
    },
    {
      "cell_type": "code",
      "source": [],
      "metadata": {
        "id": "P1srFd162QGD"
      },
      "execution_count": null,
      "outputs": []
    }
  ]
}